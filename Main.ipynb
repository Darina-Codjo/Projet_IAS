{
 "cells": [
  {
   "cell_type": "markdown",
   "source": [
    "## Welcome"
   ],
   "metadata": {
    "collapsed": false
   }
  },
  {
   "cell_type": "code",
   "execution_count": 3,
   "outputs": [],
   "source": [
    "import pandas as pd\n",
    "import matplotlib.pyplot as plt\n",
    "plt.ion()"
   ],
   "metadata": {
    "collapsed": false
   }
  },
  {
   "cell_type": "markdown",
   "source": [
    "Chargement des données"
   ],
   "metadata": {
    "collapsed": false
   }
  },
  {
   "cell_type": "code",
   "execution_count": 4,
   "outputs": [],
   "source": [
    "dataset = pd.read_csv('weatherAUS.csv')"
   ],
   "metadata": {
    "collapsed": false
   }
  },
  {
   "cell_type": "code",
   "execution_count": 5,
   "outputs": [
    {
     "data": {
      "text/plain": "         Date Location  MinTemp  MaxTemp  Rainfall  Evaporation  Sunshine  \\\n0  2008-12-01   Albury     13.4     22.9       0.6          NaN       NaN   \n1  2008-12-02   Albury      7.4     25.1       0.0          NaN       NaN   \n2  2008-12-03   Albury     12.9     25.7       0.0          NaN       NaN   \n3  2008-12-04   Albury      9.2     28.0       0.0          NaN       NaN   \n4  2008-12-05   Albury     17.5     32.3       1.0          NaN       NaN   \n\n  WindGustDir  WindGustSpeed WindDir9am  ... Humidity9am  Humidity3pm  \\\n0           W           44.0          W  ...        71.0         22.0   \n1         WNW           44.0        NNW  ...        44.0         25.0   \n2         WSW           46.0          W  ...        38.0         30.0   \n3          NE           24.0         SE  ...        45.0         16.0   \n4           W           41.0        ENE  ...        82.0         33.0   \n\n   Pressure9am  Pressure3pm  Cloud9am  Cloud3pm  Temp9am  Temp3pm  RainToday  \\\n0       1007.7       1007.1       8.0       NaN     16.9     21.8         No   \n1       1010.6       1007.8       NaN       NaN     17.2     24.3         No   \n2       1007.6       1008.7       NaN       2.0     21.0     23.2         No   \n3       1017.6       1012.8       NaN       NaN     18.1     26.5         No   \n4       1010.8       1006.0       7.0       8.0     17.8     29.7         No   \n\n   RainTomorrow  \n0            No  \n1            No  \n2            No  \n3            No  \n4            No  \n\n[5 rows x 23 columns]",
      "text/html": "<div>\n<style scoped>\n    .dataframe tbody tr th:only-of-type {\n        vertical-align: middle;\n    }\n\n    .dataframe tbody tr th {\n        vertical-align: top;\n    }\n\n    .dataframe thead th {\n        text-align: right;\n    }\n</style>\n<table border=\"1\" class=\"dataframe\">\n  <thead>\n    <tr style=\"text-align: right;\">\n      <th></th>\n      <th>Date</th>\n      <th>Location</th>\n      <th>MinTemp</th>\n      <th>MaxTemp</th>\n      <th>Rainfall</th>\n      <th>Evaporation</th>\n      <th>Sunshine</th>\n      <th>WindGustDir</th>\n      <th>WindGustSpeed</th>\n      <th>WindDir9am</th>\n      <th>...</th>\n      <th>Humidity9am</th>\n      <th>Humidity3pm</th>\n      <th>Pressure9am</th>\n      <th>Pressure3pm</th>\n      <th>Cloud9am</th>\n      <th>Cloud3pm</th>\n      <th>Temp9am</th>\n      <th>Temp3pm</th>\n      <th>RainToday</th>\n      <th>RainTomorrow</th>\n    </tr>\n  </thead>\n  <tbody>\n    <tr>\n      <th>0</th>\n      <td>2008-12-01</td>\n      <td>Albury</td>\n      <td>13.4</td>\n      <td>22.9</td>\n      <td>0.6</td>\n      <td>NaN</td>\n      <td>NaN</td>\n      <td>W</td>\n      <td>44.0</td>\n      <td>W</td>\n      <td>...</td>\n      <td>71.0</td>\n      <td>22.0</td>\n      <td>1007.7</td>\n      <td>1007.1</td>\n      <td>8.0</td>\n      <td>NaN</td>\n      <td>16.9</td>\n      <td>21.8</td>\n      <td>No</td>\n      <td>No</td>\n    </tr>\n    <tr>\n      <th>1</th>\n      <td>2008-12-02</td>\n      <td>Albury</td>\n      <td>7.4</td>\n      <td>25.1</td>\n      <td>0.0</td>\n      <td>NaN</td>\n      <td>NaN</td>\n      <td>WNW</td>\n      <td>44.0</td>\n      <td>NNW</td>\n      <td>...</td>\n      <td>44.0</td>\n      <td>25.0</td>\n      <td>1010.6</td>\n      <td>1007.8</td>\n      <td>NaN</td>\n      <td>NaN</td>\n      <td>17.2</td>\n      <td>24.3</td>\n      <td>No</td>\n      <td>No</td>\n    </tr>\n    <tr>\n      <th>2</th>\n      <td>2008-12-03</td>\n      <td>Albury</td>\n      <td>12.9</td>\n      <td>25.7</td>\n      <td>0.0</td>\n      <td>NaN</td>\n      <td>NaN</td>\n      <td>WSW</td>\n      <td>46.0</td>\n      <td>W</td>\n      <td>...</td>\n      <td>38.0</td>\n      <td>30.0</td>\n      <td>1007.6</td>\n      <td>1008.7</td>\n      <td>NaN</td>\n      <td>2.0</td>\n      <td>21.0</td>\n      <td>23.2</td>\n      <td>No</td>\n      <td>No</td>\n    </tr>\n    <tr>\n      <th>3</th>\n      <td>2008-12-04</td>\n      <td>Albury</td>\n      <td>9.2</td>\n      <td>28.0</td>\n      <td>0.0</td>\n      <td>NaN</td>\n      <td>NaN</td>\n      <td>NE</td>\n      <td>24.0</td>\n      <td>SE</td>\n      <td>...</td>\n      <td>45.0</td>\n      <td>16.0</td>\n      <td>1017.6</td>\n      <td>1012.8</td>\n      <td>NaN</td>\n      <td>NaN</td>\n      <td>18.1</td>\n      <td>26.5</td>\n      <td>No</td>\n      <td>No</td>\n    </tr>\n    <tr>\n      <th>4</th>\n      <td>2008-12-05</td>\n      <td>Albury</td>\n      <td>17.5</td>\n      <td>32.3</td>\n      <td>1.0</td>\n      <td>NaN</td>\n      <td>NaN</td>\n      <td>W</td>\n      <td>41.0</td>\n      <td>ENE</td>\n      <td>...</td>\n      <td>82.0</td>\n      <td>33.0</td>\n      <td>1010.8</td>\n      <td>1006.0</td>\n      <td>7.0</td>\n      <td>8.0</td>\n      <td>17.8</td>\n      <td>29.7</td>\n      <td>No</td>\n      <td>No</td>\n    </tr>\n  </tbody>\n</table>\n<p>5 rows × 23 columns</p>\n</div>"
     },
     "execution_count": 5,
     "metadata": {},
     "output_type": "execute_result"
    }
   ],
   "source": [
    "dataset.head()"
   ],
   "metadata": {
    "collapsed": false
   }
  },
  {
   "cell_type": "code",
   "execution_count": 6,
   "outputs": [
    {
     "data": {
      "text/plain": "Canberra            3436\nSydney              3344\nBrisbane            3193\nAdelaide            3193\nDarwin              3193\nPerth               3193\nMelbourne           3193\nHobart              3193\nMountGambier        3040\nLaunceston          3040\nTownsville          3040\nGoldCoast           3040\nBallarat            3040\nCairns              3040\nAlbury              3040\nAliceSprings        3040\nMountGinini         3040\nAlbany              3040\nBendigo             3040\nWollongong          3040\nNewcastle           3039\nPenrith             3039\nTuggeranong         3039\nWatsonia            3009\nMildura             3009\nCoffsHarbour        3009\nWilliamtown         3009\nPerthAirport        3009\nMelbourneAirport    3009\nSydneyAirport       3009\nRichmond            3009\nWaggaWagga          3009\nMoree               3009\nPortland            3009\nWoomera             3009\nDartmoor            3009\nWitchcliffe         3009\nPearceRAAF          3009\nCobar               3009\nSale                3009\nNuriootpa           3009\nBadgerysCreek       3009\nNorfolkIsland       3009\nWalpole             3006\nNorahHead           3004\nSalmonGums          3001\nNhil                1578\nUluru               1578\nKatherine           1578\nName: Location, dtype: int64"
     },
     "execution_count": 6,
     "metadata": {},
     "output_type": "execute_result"
    }
   ],
   "source": [
    "dataset['Location'].value_counts()"
   ],
   "metadata": {
    "collapsed": false
   }
  },
  {
   "cell_type": "code",
   "execution_count": 7,
   "outputs": [],
   "source": [
    "data = dataset.copy()"
   ],
   "metadata": {
    "collapsed": false
   }
  },
  {
   "cell_type": "code",
   "execution_count": 8,
   "outputs": [
    {
     "data": {
      "text/plain": "Index(['Date', 'Location', 'MinTemp', 'MaxTemp', 'Rainfall', 'Evaporation',\n       'Sunshine', 'WindGustDir', 'WindGustSpeed', 'WindDir9am', 'WindDir3pm',\n       'WindSpeed9am', 'WindSpeed3pm', 'Humidity9am', 'Humidity3pm',\n       'Pressure9am', 'Pressure3pm', 'Cloud9am', 'Cloud3pm', 'Temp9am',\n       'Temp3pm', 'RainToday', 'RainTomorrow'],\n      dtype='object')"
     },
     "execution_count": 8,
     "metadata": {},
     "output_type": "execute_result"
    }
   ],
   "source": [
    "data.columns"
   ],
   "metadata": {
    "collapsed": false
   }
  },
  {
   "cell_type": "code",
   "execution_count": 9,
   "outputs": [
    {
     "name": "stdout",
     "output_type": "stream",
     "text": [
      "<class 'pandas.core.frame.DataFrame'>\n",
      "RangeIndex: 145460 entries, 0 to 145459\n",
      "Data columns (total 23 columns):\n",
      " #   Column         Non-Null Count   Dtype  \n",
      "---  ------         --------------   -----  \n",
      " 0   Date           145460 non-null  object \n",
      " 1   Location       145460 non-null  object \n",
      " 2   MinTemp        143975 non-null  float64\n",
      " 3   MaxTemp        144199 non-null  float64\n",
      " 4   Rainfall       142199 non-null  float64\n",
      " 5   Evaporation    82670 non-null   float64\n",
      " 6   Sunshine       75625 non-null   float64\n",
      " 7   WindGustDir    135134 non-null  object \n",
      " 8   WindGustSpeed  135197 non-null  float64\n",
      " 9   WindDir9am     134894 non-null  object \n",
      " 10  WindDir3pm     141232 non-null  object \n",
      " 11  WindSpeed9am   143693 non-null  float64\n",
      " 12  WindSpeed3pm   142398 non-null  float64\n",
      " 13  Humidity9am    142806 non-null  float64\n",
      " 14  Humidity3pm    140953 non-null  float64\n",
      " 15  Pressure9am    130395 non-null  float64\n",
      " 16  Pressure3pm    130432 non-null  float64\n",
      " 17  Cloud9am       89572 non-null   float64\n",
      " 18  Cloud3pm       86102 non-null   float64\n",
      " 19  Temp9am        143693 non-null  float64\n",
      " 20  Temp3pm        141851 non-null  float64\n",
      " 21  RainToday      142199 non-null  object \n",
      " 22  RainTomorrow   142193 non-null  object \n",
      "dtypes: float64(16), object(7)\n",
      "memory usage: 25.5+ MB\n"
     ]
    }
   ],
   "source": [
    "data.info()"
   ],
   "metadata": {
    "collapsed": false
   }
  },
  {
   "cell_type": "code",
   "execution_count": 10,
   "outputs": [
    {
     "data": {
      "text/plain": "              Date  Location        MinTemp        MaxTemp       Rainfall  \\\ncount       145460    145460  143975.000000  144199.000000  142199.000000   \nunique        3436        49            NaN            NaN            NaN   \ntop     2015-12-31  Canberra            NaN            NaN            NaN   \nfreq            49      3436            NaN            NaN            NaN   \nmean           NaN       NaN      12.194034      23.221348       2.360918   \nstd            NaN       NaN       6.398495       7.119049       8.478060   \nmin            NaN       NaN      -8.500000      -4.800000       0.000000   \n25%            NaN       NaN       7.600000      17.900000       0.000000   \n50%            NaN       NaN      12.000000      22.600000       0.000000   \n75%            NaN       NaN      16.900000      28.200000       0.800000   \nmax            NaN       NaN      33.900000      48.100000     371.000000   \n\n         Evaporation      Sunshine WindGustDir  WindGustSpeed WindDir9am  ...  \\\ncount   82670.000000  75625.000000      135134  135197.000000     134894  ...   \nunique           NaN           NaN          16            NaN         16  ...   \ntop              NaN           NaN           W            NaN          N  ...   \nfreq             NaN           NaN        9915            NaN      11758  ...   \nmean        5.468232      7.611178         NaN      40.035230        NaN  ...   \nstd         4.193704      3.785483         NaN      13.607062        NaN  ...   \nmin         0.000000      0.000000         NaN       6.000000        NaN  ...   \n25%         2.600000      4.800000         NaN      31.000000        NaN  ...   \n50%         4.800000      8.400000         NaN      39.000000        NaN  ...   \n75%         7.400000     10.600000         NaN      48.000000        NaN  ...   \nmax       145.000000     14.500000         NaN     135.000000        NaN  ...   \n\n          Humidity9am    Humidity3pm   Pressure9am    Pressure3pm  \\\ncount   142806.000000  140953.000000  130395.00000  130432.000000   \nunique            NaN            NaN           NaN            NaN   \ntop               NaN            NaN           NaN            NaN   \nfreq              NaN            NaN           NaN            NaN   \nmean        68.880831      51.539116    1017.64994    1015.255889   \nstd         19.029164      20.795902       7.10653       7.037414   \nmin          0.000000       0.000000     980.50000     977.100000   \n25%         57.000000      37.000000    1012.90000    1010.400000   \n50%         70.000000      52.000000    1017.60000    1015.200000   \n75%         83.000000      66.000000    1022.40000    1020.000000   \nmax        100.000000     100.000000    1041.00000    1039.600000   \n\n            Cloud9am      Cloud3pm        Temp9am       Temp3pm  RainToday  \\\ncount   89572.000000  86102.000000  143693.000000  141851.00000     142199   \nunique           NaN           NaN            NaN           NaN          2   \ntop              NaN           NaN            NaN           NaN         No   \nfreq             NaN           NaN            NaN           NaN     110319   \nmean        4.447461      4.509930      16.990631      21.68339        NaN   \nstd         2.887159      2.720357       6.488753       6.93665        NaN   \nmin         0.000000      0.000000      -7.200000      -5.40000        NaN   \n25%         1.000000      2.000000      12.300000      16.60000        NaN   \n50%         5.000000      5.000000      16.700000      21.10000        NaN   \n75%         7.000000      7.000000      21.600000      26.40000        NaN   \nmax         9.000000      9.000000      40.200000      46.70000        NaN   \n\n        RainTomorrow  \ncount         142193  \nunique             2  \ntop               No  \nfreq          110316  \nmean             NaN  \nstd              NaN  \nmin              NaN  \n25%              NaN  \n50%              NaN  \n75%              NaN  \nmax              NaN  \n\n[11 rows x 23 columns]",
      "text/html": "<div>\n<style scoped>\n    .dataframe tbody tr th:only-of-type {\n        vertical-align: middle;\n    }\n\n    .dataframe tbody tr th {\n        vertical-align: top;\n    }\n\n    .dataframe thead th {\n        text-align: right;\n    }\n</style>\n<table border=\"1\" class=\"dataframe\">\n  <thead>\n    <tr style=\"text-align: right;\">\n      <th></th>\n      <th>Date</th>\n      <th>Location</th>\n      <th>MinTemp</th>\n      <th>MaxTemp</th>\n      <th>Rainfall</th>\n      <th>Evaporation</th>\n      <th>Sunshine</th>\n      <th>WindGustDir</th>\n      <th>WindGustSpeed</th>\n      <th>WindDir9am</th>\n      <th>...</th>\n      <th>Humidity9am</th>\n      <th>Humidity3pm</th>\n      <th>Pressure9am</th>\n      <th>Pressure3pm</th>\n      <th>Cloud9am</th>\n      <th>Cloud3pm</th>\n      <th>Temp9am</th>\n      <th>Temp3pm</th>\n      <th>RainToday</th>\n      <th>RainTomorrow</th>\n    </tr>\n  </thead>\n  <tbody>\n    <tr>\n      <th>count</th>\n      <td>145460</td>\n      <td>145460</td>\n      <td>143975.000000</td>\n      <td>144199.000000</td>\n      <td>142199.000000</td>\n      <td>82670.000000</td>\n      <td>75625.000000</td>\n      <td>135134</td>\n      <td>135197.000000</td>\n      <td>134894</td>\n      <td>...</td>\n      <td>142806.000000</td>\n      <td>140953.000000</td>\n      <td>130395.00000</td>\n      <td>130432.000000</td>\n      <td>89572.000000</td>\n      <td>86102.000000</td>\n      <td>143693.000000</td>\n      <td>141851.00000</td>\n      <td>142199</td>\n      <td>142193</td>\n    </tr>\n    <tr>\n      <th>unique</th>\n      <td>3436</td>\n      <td>49</td>\n      <td>NaN</td>\n      <td>NaN</td>\n      <td>NaN</td>\n      <td>NaN</td>\n      <td>NaN</td>\n      <td>16</td>\n      <td>NaN</td>\n      <td>16</td>\n      <td>...</td>\n      <td>NaN</td>\n      <td>NaN</td>\n      <td>NaN</td>\n      <td>NaN</td>\n      <td>NaN</td>\n      <td>NaN</td>\n      <td>NaN</td>\n      <td>NaN</td>\n      <td>2</td>\n      <td>2</td>\n    </tr>\n    <tr>\n      <th>top</th>\n      <td>2015-12-31</td>\n      <td>Canberra</td>\n      <td>NaN</td>\n      <td>NaN</td>\n      <td>NaN</td>\n      <td>NaN</td>\n      <td>NaN</td>\n      <td>W</td>\n      <td>NaN</td>\n      <td>N</td>\n      <td>...</td>\n      <td>NaN</td>\n      <td>NaN</td>\n      <td>NaN</td>\n      <td>NaN</td>\n      <td>NaN</td>\n      <td>NaN</td>\n      <td>NaN</td>\n      <td>NaN</td>\n      <td>No</td>\n      <td>No</td>\n    </tr>\n    <tr>\n      <th>freq</th>\n      <td>49</td>\n      <td>3436</td>\n      <td>NaN</td>\n      <td>NaN</td>\n      <td>NaN</td>\n      <td>NaN</td>\n      <td>NaN</td>\n      <td>9915</td>\n      <td>NaN</td>\n      <td>11758</td>\n      <td>...</td>\n      <td>NaN</td>\n      <td>NaN</td>\n      <td>NaN</td>\n      <td>NaN</td>\n      <td>NaN</td>\n      <td>NaN</td>\n      <td>NaN</td>\n      <td>NaN</td>\n      <td>110319</td>\n      <td>110316</td>\n    </tr>\n    <tr>\n      <th>mean</th>\n      <td>NaN</td>\n      <td>NaN</td>\n      <td>12.194034</td>\n      <td>23.221348</td>\n      <td>2.360918</td>\n      <td>5.468232</td>\n      <td>7.611178</td>\n      <td>NaN</td>\n      <td>40.035230</td>\n      <td>NaN</td>\n      <td>...</td>\n      <td>68.880831</td>\n      <td>51.539116</td>\n      <td>1017.64994</td>\n      <td>1015.255889</td>\n      <td>4.447461</td>\n      <td>4.509930</td>\n      <td>16.990631</td>\n      <td>21.68339</td>\n      <td>NaN</td>\n      <td>NaN</td>\n    </tr>\n    <tr>\n      <th>std</th>\n      <td>NaN</td>\n      <td>NaN</td>\n      <td>6.398495</td>\n      <td>7.119049</td>\n      <td>8.478060</td>\n      <td>4.193704</td>\n      <td>3.785483</td>\n      <td>NaN</td>\n      <td>13.607062</td>\n      <td>NaN</td>\n      <td>...</td>\n      <td>19.029164</td>\n      <td>20.795902</td>\n      <td>7.10653</td>\n      <td>7.037414</td>\n      <td>2.887159</td>\n      <td>2.720357</td>\n      <td>6.488753</td>\n      <td>6.93665</td>\n      <td>NaN</td>\n      <td>NaN</td>\n    </tr>\n    <tr>\n      <th>min</th>\n      <td>NaN</td>\n      <td>NaN</td>\n      <td>-8.500000</td>\n      <td>-4.800000</td>\n      <td>0.000000</td>\n      <td>0.000000</td>\n      <td>0.000000</td>\n      <td>NaN</td>\n      <td>6.000000</td>\n      <td>NaN</td>\n      <td>...</td>\n      <td>0.000000</td>\n      <td>0.000000</td>\n      <td>980.50000</td>\n      <td>977.100000</td>\n      <td>0.000000</td>\n      <td>0.000000</td>\n      <td>-7.200000</td>\n      <td>-5.40000</td>\n      <td>NaN</td>\n      <td>NaN</td>\n    </tr>\n    <tr>\n      <th>25%</th>\n      <td>NaN</td>\n      <td>NaN</td>\n      <td>7.600000</td>\n      <td>17.900000</td>\n      <td>0.000000</td>\n      <td>2.600000</td>\n      <td>4.800000</td>\n      <td>NaN</td>\n      <td>31.000000</td>\n      <td>NaN</td>\n      <td>...</td>\n      <td>57.000000</td>\n      <td>37.000000</td>\n      <td>1012.90000</td>\n      <td>1010.400000</td>\n      <td>1.000000</td>\n      <td>2.000000</td>\n      <td>12.300000</td>\n      <td>16.60000</td>\n      <td>NaN</td>\n      <td>NaN</td>\n    </tr>\n    <tr>\n      <th>50%</th>\n      <td>NaN</td>\n      <td>NaN</td>\n      <td>12.000000</td>\n      <td>22.600000</td>\n      <td>0.000000</td>\n      <td>4.800000</td>\n      <td>8.400000</td>\n      <td>NaN</td>\n      <td>39.000000</td>\n      <td>NaN</td>\n      <td>...</td>\n      <td>70.000000</td>\n      <td>52.000000</td>\n      <td>1017.60000</td>\n      <td>1015.200000</td>\n      <td>5.000000</td>\n      <td>5.000000</td>\n      <td>16.700000</td>\n      <td>21.10000</td>\n      <td>NaN</td>\n      <td>NaN</td>\n    </tr>\n    <tr>\n      <th>75%</th>\n      <td>NaN</td>\n      <td>NaN</td>\n      <td>16.900000</td>\n      <td>28.200000</td>\n      <td>0.800000</td>\n      <td>7.400000</td>\n      <td>10.600000</td>\n      <td>NaN</td>\n      <td>48.000000</td>\n      <td>NaN</td>\n      <td>...</td>\n      <td>83.000000</td>\n      <td>66.000000</td>\n      <td>1022.40000</td>\n      <td>1020.000000</td>\n      <td>7.000000</td>\n      <td>7.000000</td>\n      <td>21.600000</td>\n      <td>26.40000</td>\n      <td>NaN</td>\n      <td>NaN</td>\n    </tr>\n    <tr>\n      <th>max</th>\n      <td>NaN</td>\n      <td>NaN</td>\n      <td>33.900000</td>\n      <td>48.100000</td>\n      <td>371.000000</td>\n      <td>145.000000</td>\n      <td>14.500000</td>\n      <td>NaN</td>\n      <td>135.000000</td>\n      <td>NaN</td>\n      <td>...</td>\n      <td>100.000000</td>\n      <td>100.000000</td>\n      <td>1041.00000</td>\n      <td>1039.600000</td>\n      <td>9.000000</td>\n      <td>9.000000</td>\n      <td>40.200000</td>\n      <td>46.70000</td>\n      <td>NaN</td>\n      <td>NaN</td>\n    </tr>\n  </tbody>\n</table>\n<p>11 rows × 23 columns</p>\n</div>"
     },
     "execution_count": 10,
     "metadata": {},
     "output_type": "execute_result"
    }
   ],
   "source": [
    "data.describe(include = 'all')"
   ],
   "metadata": {
    "collapsed": false
   }
  },
  {
   "cell_type": "code",
   "execution_count": 11,
   "outputs": [
    {
     "data": {
      "text/plain": "Date                 0\nLocation             0\nMinTemp           1485\nMaxTemp           1261\nRainfall          3261\nEvaporation      62790\nSunshine         69835\nWindGustDir      10326\nWindGustSpeed    10263\nWindDir9am       10566\nWindDir3pm        4228\nWindSpeed9am      1767\nWindSpeed3pm      3062\nHumidity9am       2654\nHumidity3pm       4507\nPressure9am      15065\nPressure3pm      15028\nCloud9am         55888\nCloud3pm         59358\nTemp9am           1767\nTemp3pm           3609\nRainToday         3261\nRainTomorrow      3267\ndtype: int64"
     },
     "execution_count": 11,
     "metadata": {},
     "output_type": "execute_result"
    }
   ],
   "source": [
    "data.isnull().sum()"
   ],
   "metadata": {
    "collapsed": false
   }
  },
  {
   "cell_type": "code",
   "execution_count": 12,
   "outputs": [
    {
     "data": {
      "text/plain": "<Figure size 1080x864 with 16 Axes>",
      "image/png": "[encoded data removed]"
     },
     "metadata": {},
     "output_type": "display_data"
    }
   ],
   "source": [
    "data.hist(bins=20,figsize = (15,12),grid = False,color=\"yellow\");"
   ],
   "metadata": {
    "collapsed": false
   }
  },
  {
   "cell_type": "code",
   "execution_count": 13,
   "outputs": [
    {
     "data": {
      "text/plain": "<AxesSubplot:title={'center':'Rain Today ?'}>"
     },
     "execution_count": 13,
     "metadata": {},
     "output_type": "execute_result"
    },
    {
     "data": {
      "text/plain": "<Figure size 432x288 with 1 Axes>",
      "image/png": "[encoded data removed]"
     },
     "metadata": {},
     "output_type": "display_data"
    }
   ],
   "source": [
    "plt.figure(figsize=(6, 4))\n",
    "data['RainToday'].value_counts().plot(kind=\"bar\", color=\"yellow\", title=\"Rain Today ?\")"
   ],
   "metadata": {
    "collapsed": false
   }
  },
  {
   "cell_type": "code",
   "execution_count": 14,
   "outputs": [
    {
     "data": {
      "text/plain": "<AxesSubplot:title={'center':'Rain Tomorrow ?'}>"
     },
     "execution_count": 14,
     "metadata": {},
     "output_type": "execute_result"
    },
    {
     "data": {
      "text/plain": "<Figure size 432x288 with 1 Axes>",
      "image/png": "[encoded data removed]"
     },
     "metadata": {},
     "output_type": "display_data"
    }
   ],
   "source": [
    "plt.figure(figsize=(6, 4))\n",
    "data['RainTomorrow'].value_counts().plot(kind=\"bar\", color=\"yellow\", title=\"Rain Tomorrow ?\")"
   ],
   "metadata": {
    "collapsed": false
   }
  },
  {
   "cell_type": "code",
   "execution_count": 15,
   "outputs": [
    {
     "data": {
      "text/plain": "No     110316\nYes     31877\nName: RainTomorrow, dtype: int64"
     },
     "execution_count": 15,
     "metadata": {},
     "output_type": "execute_result"
    }
   ],
   "source": [
    "data['RainTomorrow'].value_counts()"
   ],
   "metadata": {
    "collapsed": false
   }
  },
  {
   "cell_type": "code",
   "execution_count": 16,
   "outputs": [
    {
     "data": {
      "text/plain": "   MinTemp  MaxTemp  Evaporation  Sunshine WindGustDir  WindGustSpeed  \\\n0     13.4     22.9          NaN       NaN           W           44.0   \n1      7.4     25.1          NaN       NaN         WNW           44.0   \n2     12.9     25.7          NaN       NaN         WSW           46.0   \n3      9.2     28.0          NaN       NaN          NE           24.0   \n4     17.5     32.3          NaN       NaN           W           41.0   \n\n  WindDir9am WindDir3pm  WindSpeed9am  WindSpeed3pm  Humidity9am  Humidity3pm  \\\n0          W        WNW          20.0          24.0         71.0         22.0   \n1        NNW        WSW           4.0          22.0         44.0         25.0   \n2          W        WSW          19.0          26.0         38.0         30.0   \n3         SE          E          11.0           9.0         45.0         16.0   \n4        ENE         NW           7.0          20.0         82.0         33.0   \n\n   Pressure9am  Pressure3pm  Cloud9am  Cloud3pm  Temp9am  Temp3pm RainToday  \n0       1007.7       1007.1       8.0       NaN     16.9     21.8        No  \n1       1010.6       1007.8       NaN       NaN     17.2     24.3        No  \n2       1007.6       1008.7       NaN       2.0     21.0     23.2        No  \n3       1017.6       1012.8       NaN       NaN     18.1     26.5        No  \n4       1010.8       1006.0       7.0       8.0     17.8     29.7        No  ",
      "text/html": "<div>\n<style scoped>\n    .dataframe tbody tr th:only-of-type {\n        vertical-align: middle;\n    }\n\n    .dataframe tbody tr th {\n        vertical-align: top;\n    }\n\n    .dataframe thead th {\n        text-align: right;\n    }\n</style>\n<table border=\"1\" class=\"dataframe\">\n  <thead>\n    <tr style=\"text-align: right;\">\n      <th></th>\n      <th>MinTemp</th>\n      <th>MaxTemp</th>\n      <th>Evaporation</th>\n      <th>Sunshine</th>\n      <th>WindGustDir</th>\n      <th>WindGustSpeed</th>\n      <th>WindDir9am</th>\n      <th>WindDir3pm</th>\n      <th>WindSpeed9am</th>\n      <th>WindSpeed3pm</th>\n      <th>Humidity9am</th>\n      <th>Humidity3pm</th>\n      <th>Pressure9am</th>\n      <th>Pressure3pm</th>\n      <th>Cloud9am</th>\n      <th>Cloud3pm</th>\n      <th>Temp9am</th>\n      <th>Temp3pm</th>\n      <th>RainToday</th>\n    </tr>\n  </thead>\n  <tbody>\n    <tr>\n      <th>0</th>\n      <td>13.4</td>\n      <td>22.9</td>\n      <td>NaN</td>\n      <td>NaN</td>\n      <td>W</td>\n      <td>44.0</td>\n      <td>W</td>\n      <td>WNW</td>\n      <td>20.0</td>\n      <td>24.0</td>\n      <td>71.0</td>\n      <td>22.0</td>\n      <td>1007.7</td>\n      <td>1007.1</td>\n      <td>8.0</td>\n      <td>NaN</td>\n      <td>16.9</td>\n      <td>21.8</td>\n      <td>No</td>\n    </tr>\n    <tr>\n      <th>1</th>\n      <td>7.4</td>\n      <td>25.1</td>\n      <td>NaN</td>\n      <td>NaN</td>\n      <td>WNW</td>\n      <td>44.0</td>\n      <td>NNW</td>\n      <td>WSW</td>\n      <td>4.0</td>\n      <td>22.0</td>\n      <td>44.0</td>\n      <td>25.0</td>\n      <td>1010.6</td>\n      <td>1007.8</td>\n      <td>NaN</td>\n      <td>NaN</td>\n      <td>17.2</td>\n      <td>24.3</td>\n      <td>No</td>\n    </tr>\n    <tr>\n      <th>2</th>\n      <td>12.9</td>\n      <td>25.7</td>\n      <td>NaN</td>\n      <td>NaN</td>\n      <td>WSW</td>\n      <td>46.0</td>\n      <td>W</td>\n      <td>WSW</td>\n      <td>19.0</td>\n      <td>26.0</td>\n      <td>38.0</td>\n      <td>30.0</td>\n      <td>1007.6</td>\n      <td>1008.7</td>\n      <td>NaN</td>\n      <td>2.0</td>\n      <td>21.0</td>\n      <td>23.2</td>\n      <td>No</td>\n    </tr>\n    <tr>\n      <th>3</th>\n      <td>9.2</td>\n      <td>28.0</td>\n      <td>NaN</td>\n      <td>NaN</td>\n      <td>NE</td>\n      <td>24.0</td>\n      <td>SE</td>\n      <td>E</td>\n      <td>11.0</td>\n      <td>9.0</td>\n      <td>45.0</td>\n      <td>16.0</td>\n      <td>1017.6</td>\n      <td>1012.8</td>\n      <td>NaN</td>\n      <td>NaN</td>\n      <td>18.1</td>\n      <td>26.5</td>\n      <td>No</td>\n    </tr>\n    <tr>\n      <th>4</th>\n      <td>17.5</td>\n      <td>32.3</td>\n      <td>NaN</td>\n      <td>NaN</td>\n      <td>W</td>\n      <td>41.0</td>\n      <td>ENE</td>\n      <td>NW</td>\n      <td>7.0</td>\n      <td>20.0</td>\n      <td>82.0</td>\n      <td>33.0</td>\n      <td>1010.8</td>\n      <td>1006.0</td>\n      <td>7.0</td>\n      <td>8.0</td>\n      <td>17.8</td>\n      <td>29.7</td>\n      <td>No</td>\n    </tr>\n  </tbody>\n</table>\n</div>"
     },
     "execution_count": 16,
     "metadata": {},
     "output_type": "execute_result"
    }
   ],
   "source": [
    "X = data.drop(columns=['Date', 'Location', 'Rainfall','RainTomorrow'], axis=1)\n",
    "X.head()"
   ],
   "metadata": {
    "collapsed": false
   }
  },
  {
   "cell_type": "code",
   "execution_count": 17,
   "outputs": [
    {
     "data": {
      "text/plain": "3267"
     },
     "execution_count": 17,
     "metadata": {},
     "output_type": "execute_result"
    }
   ],
   "source": [
    "X.isnull().sum()\n",
    "Y = data['RainTomorrow']\n",
    "Y.isnull().sum()"
   ],
   "metadata": {
    "collapsed": false
   }
  },
  {
   "cell_type": "code",
   "execution_count": 18,
   "outputs": [
    {
     "data": {
      "text/plain": "((145460, 19), (145460,))"
     },
     "execution_count": 18,
     "metadata": {},
     "output_type": "execute_result"
    }
   ],
   "source": [
    "X.shape, Y.shape"
   ],
   "metadata": {
    "collapsed": false
   }
  },
  {
   "cell_type": "code",
   "execution_count": 19,
   "outputs": [
    {
     "data": {
      "text/plain": "        MinTemp  MaxTemp  Evaporation  Sunshine WindGustDir  WindGustSpeed  \\\n0          13.4     22.9          NaN       NaN           W           44.0   \n1           7.4     25.1          NaN       NaN         WNW           44.0   \n2          12.9     25.7          NaN       NaN         WSW           46.0   \n3           9.2     28.0          NaN       NaN          NE           24.0   \n4          17.5     32.3          NaN       NaN           W           41.0   \n...         ...      ...          ...       ...         ...            ...   \n145455      2.8     23.4          NaN       NaN           E           31.0   \n145456      3.6     25.3          NaN       NaN         NNW           22.0   \n145457      5.4     26.9          NaN       NaN           N           37.0   \n145458      7.8     27.0          NaN       NaN          SE           28.0   \n145459     14.9      NaN          NaN       NaN         NaN            NaN   \n\n       WindDir9am WindDir3pm  WindSpeed9am  WindSpeed3pm  Humidity9am  \\\n0               W        WNW          20.0          24.0         71.0   \n1             NNW        WSW           4.0          22.0         44.0   \n2               W        WSW          19.0          26.0         38.0   \n3              SE          E          11.0           9.0         45.0   \n4             ENE         NW           7.0          20.0         82.0   \n...           ...        ...           ...           ...          ...   \n145455         SE        ENE          13.0          11.0         51.0   \n145456         SE          N          13.0           9.0         56.0   \n145457         SE        WNW           9.0           9.0         53.0   \n145458        SSE          N          13.0           7.0         51.0   \n145459        ESE        ESE          17.0          17.0         62.0   \n\n        Humidity3pm  Pressure9am  Pressure3pm  Cloud9am  Cloud3pm  Temp9am  \\\n0              22.0       1007.7       1007.1       8.0       NaN     16.9   \n1              25.0       1010.6       1007.8       NaN       NaN     17.2   \n2              30.0       1007.6       1008.7       NaN       2.0     21.0   \n3              16.0       1017.6       1012.8       NaN       NaN     18.1   \n4              33.0       1010.8       1006.0       7.0       8.0     17.8   \n...             ...          ...          ...       ...       ...      ...   \n145455         24.0       1024.6       1020.3       NaN       NaN     10.1   \n145456         21.0       1023.5       1019.1       NaN       NaN     10.9   \n145457         24.0       1021.0       1016.8       NaN       NaN     12.5   \n145458         24.0       1019.4       1016.5       3.0       2.0     15.1   \n145459         36.0       1020.2       1017.9       8.0       8.0     15.0   \n\n        Temp3pm RainToday  \n0          21.8        No  \n1          24.3        No  \n2          23.2        No  \n3          26.5        No  \n4          29.7        No  \n...         ...       ...  \n145455     22.4        No  \n145456     24.5        No  \n145457     26.1        No  \n145458     26.0        No  \n145459     20.9        No  \n\n[145460 rows x 19 columns]",
      "text/html": "<div>\n<style scoped>\n    .dataframe tbody tr th:only-of-type {\n        vertical-align: middle;\n    }\n\n    .dataframe tbody tr th {\n        vertical-align: top;\n    }\n\n    .dataframe thead th {\n        text-align: right;\n    }\n</style>\n<table border=\"1\" class=\"dataframe\">\n  <thead>\n    <tr style=\"text-align: right;\">\n      <th></th>\n      <th>MinTemp</th>\n      <th>MaxTemp</th>\n      <th>Evaporation</th>\n      <th>Sunshine</th>\n      <th>WindGustDir</th>\n      <th>WindGustSpeed</th>\n      <th>WindDir9am</th>\n      <th>WindDir3pm</th>\n      <th>WindSpeed9am</th>\n      <th>WindSpeed3pm</th>\n      <th>Humidity9am</th>\n      <th>Humidity3pm</th>\n      <th>Pressure9am</th>\n      <th>Pressure3pm</th>\n      <th>Cloud9am</th>\n      <th>Cloud3pm</th>\n      <th>Temp9am</th>\n      <th>Temp3pm</th>\n      <th>RainToday</th>\n    </tr>\n  </thead>\n  <tbody>\n    <tr>\n      <th>0</th>\n      <td>13.4</td>\n      <td>22.9</td>\n      <td>NaN</td>\n      <td>NaN</td>\n      <td>W</td>\n      <td>44.0</td>\n      <td>W</td>\n      <td>WNW</td>\n      <td>20.0</td>\n      <td>24.0</td>\n      <td>71.0</td>\n      <td>22.0</td>\n      <td>1007.7</td>\n      <td>1007.1</td>\n      <td>8.0</td>\n      <td>NaN</td>\n      <td>16.9</td>\n      <td>21.8</td>\n      <td>No</td>\n    </tr>\n    <tr>\n      <th>1</th>\n      <td>7.4</td>\n      <td>25.1</td>\n      <td>NaN</td>\n      <td>NaN</td>\n      <td>WNW</td>\n      <td>44.0</td>\n      <td>NNW</td>\n      <td>WSW</td>\n      <td>4.0</td>\n      <td>22.0</td>\n      <td>44.0</td>\n      <td>25.0</td>\n      <td>1010.6</td>\n      <td>1007.8</td>\n      <td>NaN</td>\n      <td>NaN</td>\n      <td>17.2</td>\n      <td>24.3</td>\n      <td>No</td>\n    </tr>\n    <tr>\n      <th>2</th>\n      <td>12.9</td>\n      <td>25.7</td>\n      <td>NaN</td>\n      <td>NaN</td>\n      <td>WSW</td>\n      <td>46.0</td>\n      <td>W</td>\n      <td>WSW</td>\n      <td>19.0</td>\n      <td>26.0</td>\n      <td>38.0</td>\n      <td>30.0</td>\n      <td>1007.6</td>\n      <td>1008.7</td>\n      <td>NaN</td>\n      <td>2.0</td>\n      <td>21.0</td>\n      <td>23.2</td>\n      <td>No</td>\n    </tr>\n    <tr>\n      <th>3</th>\n      <td>9.2</td>\n      <td>28.0</td>\n      <td>NaN</td>\n      <td>NaN</td>\n      <td>NE</td>\n      <td>24.0</td>\n      <td>SE</td>\n      <td>E</td>\n      <td>11.0</td>\n      <td>9.0</td>\n      <td>45.0</td>\n      <td>16.0</td>\n      <td>1017.6</td>\n      <td>1012.8</td>\n      <td>NaN</td>\n      <td>NaN</td>\n      <td>18.1</td>\n      <td>26.5</td>\n      <td>No</td>\n    </tr>\n    <tr>\n      <th>4</th>\n      <td>17.5</td>\n      <td>32.3</td>\n      <td>NaN</td>\n      <td>NaN</td>\n      <td>W</td>\n      <td>41.0</td>\n      <td>ENE</td>\n      <td>NW</td>\n      <td>7.0</td>\n      <td>20.0</td>\n      <td>82.0</td>\n      <td>33.0</td>\n      <td>1010.8</td>\n      <td>1006.0</td>\n      <td>7.0</td>\n      <td>8.0</td>\n      <td>17.8</td>\n      <td>29.7</td>\n      <td>No</td>\n    </tr>\n    <tr>\n      <th>...</th>\n      <td>...</td>\n      <td>...</td>\n      <td>...</td>\n      <td>...</td>\n      <td>...</td>\n      <td>...</td>\n      <td>...</td>\n      <td>...</td>\n      <td>...</td>\n      <td>...</td>\n      <td>...</td>\n      <td>...</td>\n      <td>...</td>\n      <td>...</td>\n      <td>...</td>\n      <td>...</td>\n      <td>...</td>\n      <td>...</td>\n      <td>...</td>\n    </tr>\n    <tr>\n      <th>145455</th>\n      <td>2.8</td>\n      <td>23.4</td>\n      <td>NaN</td>\n      <td>NaN</td>\n      <td>E</td>\n      <td>31.0</td>\n      <td>SE</td>\n      <td>ENE</td>\n      <td>13.0</td>\n      <td>11.0</td>\n      <td>51.0</td>\n      <td>24.0</td>\n      <td>1024.6</td>\n      <td>1020.3</td>\n      <td>NaN</td>\n      <td>NaN</td>\n      <td>10.1</td>\n      <td>22.4</td>\n      <td>No</td>\n    </tr>\n    <tr>\n      <th>145456</th>\n      <td>3.6</td>\n      <td>25.3</td>\n      <td>NaN</td>\n      <td>NaN</td>\n      <td>NNW</td>\n      <td>22.0</td>\n      <td>SE</td>\n      <td>N</td>\n      <td>13.0</td>\n      <td>9.0</td>\n      <td>56.0</td>\n      <td>21.0</td>\n      <td>1023.5</td>\n      <td>1019.1</td>\n      <td>NaN</td>\n      <td>NaN</td>\n      <td>10.9</td>\n      <td>24.5</td>\n      <td>No</td>\n    </tr>\n    <tr>\n      <th>145457</th>\n      <td>5.4</td>\n      <td>26.9</td>\n      <td>NaN</td>\n      <td>NaN</td>\n      <td>N</td>\n      <td>37.0</td>\n      <td>SE</td>\n      <td>WNW</td>\n      <td>9.0</td>\n      <td>9.0</td>\n      <td>53.0</td>\n      <td>24.0</td>\n      <td>1021.0</td>\n      <td>1016.8</td>\n      <td>NaN</td>\n      <td>NaN</td>\n      <td>12.5</td>\n      <td>26.1</td>\n      <td>No</td>\n    </tr>\n    <tr>\n      <th>145458</th>\n      <td>7.8</td>\n      <td>27.0</td>\n      <td>NaN</td>\n      <td>NaN</td>\n      <td>SE</td>\n      <td>28.0</td>\n      <td>SSE</td>\n      <td>N</td>\n      <td>13.0</td>\n      <td>7.0</td>\n      <td>51.0</td>\n      <td>24.0</td>\n      <td>1019.4</td>\n      <td>1016.5</td>\n      <td>3.0</td>\n      <td>2.0</td>\n      <td>15.1</td>\n      <td>26.0</td>\n      <td>No</td>\n    </tr>\n    <tr>\n      <th>145459</th>\n      <td>14.9</td>\n      <td>NaN</td>\n      <td>NaN</td>\n      <td>NaN</td>\n      <td>NaN</td>\n      <td>NaN</td>\n      <td>ESE</td>\n      <td>ESE</td>\n      <td>17.0</td>\n      <td>17.0</td>\n      <td>62.0</td>\n      <td>36.0</td>\n      <td>1020.2</td>\n      <td>1017.9</td>\n      <td>8.0</td>\n      <td>8.0</td>\n      <td>15.0</td>\n      <td>20.9</td>\n      <td>No</td>\n    </tr>\n  </tbody>\n</table>\n<p>145460 rows × 19 columns</p>\n</div>"
     },
     "execution_count": 19,
     "metadata": {},
     "output_type": "execute_result"
    }
   ],
   "source": [
    "X"
   ],
   "metadata": {
    "collapsed": false
   }
  },
  {
   "cell_type": "code",
   "execution_count": 20,
   "outputs": [
    {
     "data": {
      "text/plain": "0          No\n1          No\n2          No\n3          No\n4          No\n         ... \n145455     No\n145456     No\n145457     No\n145458     No\n145459    NaN\nName: RainTomorrow, Length: 145460, dtype: object"
     },
     "execution_count": 20,
     "metadata": {},
     "output_type": "execute_result"
    }
   ],
   "source": [
    "Y"
   ],
   "metadata": {
    "collapsed": false
   }
  },
  {
   "cell_type": "code",
   "execution_count": 21,
   "outputs": [
    {
     "data": {
      "text/plain": "MinTemp           float64\nMaxTemp           float64\nEvaporation       float64\nSunshine          float64\nWindGustDir      category\nWindGustSpeed     float64\nWindDir9am       category\nWindDir3pm       category\nWindSpeed9am      float64\nWindSpeed3pm      float64\nHumidity9am       float64\nHumidity3pm       float64\nPressure9am       float64\nPressure3pm       float64\nCloud9am          float64\nCloud3pm          float64\nTemp9am           float64\nTemp3pm           float64\nRainToday        category\ndtype: object"
     },
     "execution_count": 21,
     "metadata": {},
     "output_type": "execute_result"
    }
   ],
   "source": [
    "# changing the type of the column from String to category\n",
    "X['WindGustDir'] = X['WindGustDir'].astype('category')\n",
    "X['WindDir9am'] = X['WindDir9am'].astype('category')\n",
    "X['WindDir3pm'] = X['WindDir3pm'].astype('category')\n",
    "X['RainToday'] = X['RainToday'].astype('category')\n",
    "\n",
    "X.dtypes"
   ],
   "metadata": {
    "collapsed": false
   }
  },
  {
   "cell_type": "code",
   "execution_count": 22,
   "outputs": [
    {
     "data": {
      "text/plain": "   MinTemp  MaxTemp  Evaporation  Sunshine WindGustDir  WindGustSpeed  \\\n0     13.4     22.9          NaN       NaN           W           44.0   \n1      7.4     25.1          NaN       NaN         WNW           44.0   \n2     12.9     25.7          NaN       NaN         WSW           46.0   \n3      9.2     28.0          NaN       NaN          NE           24.0   \n4     17.5     32.3          NaN       NaN           W           41.0   \n\n  WindDir9am WindDir3pm  WindSpeed9am  WindSpeed3pm  ...  Pressure3pm  \\\n0          W        WNW          20.0          24.0  ...       1007.1   \n1        NNW        WSW           4.0          22.0  ...       1007.8   \n2          W        WSW          19.0          26.0  ...       1008.7   \n3         SE          E          11.0           9.0  ...       1012.8   \n4        ENE         NW           7.0          20.0  ...       1006.0   \n\n   Cloud9am  Cloud3pm  Temp9am  Temp3pm  RainToday  WindGustDir_cat  \\\n0       8.0       NaN     16.9     21.8         No               13   \n1       NaN       NaN     17.2     24.3         No               14   \n2       NaN       2.0     21.0     23.2         No               15   \n3       NaN       NaN     18.1     26.5         No                4   \n4       7.0       8.0     17.8     29.7         No               13   \n\n   WindDir9am_cat WindDir3pm_cat  RainToday_cat  \n0              13             14              0  \n1               6             15              0  \n2              13             15              0  \n3               9              0              0  \n4               1              7              0  \n\n[5 rows x 23 columns]",
      "text/html": "<div>\n<style scoped>\n    .dataframe tbody tr th:only-of-type {\n        vertical-align: middle;\n    }\n\n    .dataframe tbody tr th {\n        vertical-align: top;\n    }\n\n    .dataframe thead th {\n        text-align: right;\n    }\n</style>\n<table border=\"1\" class=\"dataframe\">\n  <thead>\n    <tr style=\"text-align: right;\">\n      <th></th>\n      <th>MinTemp</th>\n      <th>MaxTemp</th>\n      <th>Evaporation</th>\n      <th>Sunshine</th>\n      <th>WindGustDir</th>\n      <th>WindGustSpeed</th>\n      <th>WindDir9am</th>\n      <th>WindDir3pm</th>\n      <th>WindSpeed9am</th>\n      <th>WindSpeed3pm</th>\n      <th>...</th>\n      <th>Pressure3pm</th>\n      <th>Cloud9am</th>\n      <th>Cloud3pm</th>\n      <th>Temp9am</th>\n      <th>Temp3pm</th>\n      <th>RainToday</th>\n      <th>WindGustDir_cat</th>\n      <th>WindDir9am_cat</th>\n      <th>WindDir3pm_cat</th>\n      <th>RainToday_cat</th>\n    </tr>\n  </thead>\n  <tbody>\n    <tr>\n      <th>0</th>\n      <td>13.4</td>\n      <td>22.9</td>\n      <td>NaN</td>\n      <td>NaN</td>\n      <td>W</td>\n      <td>44.0</td>\n      <td>W</td>\n      <td>WNW</td>\n      <td>20.0</td>\n      <td>24.0</td>\n      <td>...</td>\n      <td>1007.1</td>\n      <td>8.0</td>\n      <td>NaN</td>\n      <td>16.9</td>\n      <td>21.8</td>\n      <td>No</td>\n      <td>13</td>\n      <td>13</td>\n      <td>14</td>\n      <td>0</td>\n    </tr>\n    <tr>\n      <th>1</th>\n      <td>7.4</td>\n      <td>25.1</td>\n      <td>NaN</td>\n      <td>NaN</td>\n      <td>WNW</td>\n      <td>44.0</td>\n      <td>NNW</td>\n      <td>WSW</td>\n      <td>4.0</td>\n      <td>22.0</td>\n      <td>...</td>\n      <td>1007.8</td>\n      <td>NaN</td>\n      <td>NaN</td>\n      <td>17.2</td>\n      <td>24.3</td>\n      <td>No</td>\n      <td>14</td>\n      <td>6</td>\n      <td>15</td>\n      <td>0</td>\n    </tr>\n    <tr>\n      <th>2</th>\n      <td>12.9</td>\n      <td>25.7</td>\n      <td>NaN</td>\n      <td>NaN</td>\n      <td>WSW</td>\n      <td>46.0</td>\n      <td>W</td>\n      <td>WSW</td>\n      <td>19.0</td>\n      <td>26.0</td>\n      <td>...</td>\n      <td>1008.7</td>\n      <td>NaN</td>\n      <td>2.0</td>\n      <td>21.0</td>\n      <td>23.2</td>\n      <td>No</td>\n      <td>15</td>\n      <td>13</td>\n      <td>15</td>\n      <td>0</td>\n    </tr>\n    <tr>\n      <th>3</th>\n      <td>9.2</td>\n      <td>28.0</td>\n      <td>NaN</td>\n      <td>NaN</td>\n      <td>NE</td>\n      <td>24.0</td>\n      <td>SE</td>\n      <td>E</td>\n      <td>11.0</td>\n      <td>9.0</td>\n      <td>...</td>\n      <td>1012.8</td>\n      <td>NaN</td>\n      <td>NaN</td>\n      <td>18.1</td>\n      <td>26.5</td>\n      <td>No</td>\n      <td>4</td>\n      <td>9</td>\n      <td>0</td>\n      <td>0</td>\n    </tr>\n    <tr>\n      <th>4</th>\n      <td>17.5</td>\n      <td>32.3</td>\n      <td>NaN</td>\n      <td>NaN</td>\n      <td>W</td>\n      <td>41.0</td>\n      <td>ENE</td>\n      <td>NW</td>\n      <td>7.0</td>\n      <td>20.0</td>\n      <td>...</td>\n      <td>1006.0</td>\n      <td>7.0</td>\n      <td>8.0</td>\n      <td>17.8</td>\n      <td>29.7</td>\n      <td>No</td>\n      <td>13</td>\n      <td>1</td>\n      <td>7</td>\n      <td>0</td>\n    </tr>\n  </tbody>\n</table>\n<p>5 rows × 23 columns</p>\n</div>"
     },
     "execution_count": 22,
     "metadata": {},
     "output_type": "execute_result"
    }
   ],
   "source": [
    "# category encoding\n",
    "X['WindGustDir_cat'] = X['WindGustDir'].cat.codes\n",
    "X['WindDir9am_cat'] = X['WindDir9am'].cat.codes\n",
    "X['WindDir3pm_cat'] = X['WindDir3pm'].cat.codes\n",
    "X['RainToday_cat'] = X['RainToday'].cat.codes\n",
    "\n",
    "X.head()"
   ],
   "metadata": {
    "collapsed": false
   }
  },
  {
   "cell_type": "code",
   "execution_count": 23,
   "outputs": [],
   "source": [
    "# removing the originals columns\n",
    "X = X.drop(columns=['WindGustDir','WindDir9am','WindDir3pm','RainToday'], axis=1)"
   ],
   "metadata": {
    "collapsed": false
   }
  },
  {
   "cell_type": "code",
   "execution_count": 24,
   "outputs": [],
   "source": [
    "# changing the type of the column from category to String\n",
    "X['WindGustDir_cat'] = X['WindGustDir_cat'].astype('float')\n",
    "X['WindDir9am_cat'] = X['WindDir9am_cat'].astype('float')\n",
    "X['WindDir3pm_cat'] = X['WindDir3pm_cat'].astype('float')\n",
    "X['RainToday_cat'] = X['RainToday_cat'].astype('float')"
   ],
   "metadata": {
    "collapsed": false
   }
  },
  {
   "cell_type": "code",
   "execution_count": 25,
   "outputs": [],
   "source": [
    "features = list(X.columns)"
   ],
   "metadata": {
    "collapsed": false
   }
  },
  {
   "cell_type": "code",
   "execution_count": 26,
   "outputs": [
    {
     "data": {
      "text/plain": "['MinTemp',\n 'MaxTemp',\n 'Evaporation',\n 'Sunshine',\n 'WindGustSpeed',\n 'WindSpeed9am',\n 'WindSpeed3pm',\n 'Humidity9am',\n 'Humidity3pm',\n 'Pressure9am',\n 'Pressure3pm',\n 'Cloud9am',\n 'Cloud3pm',\n 'Temp9am',\n 'Temp3pm',\n 'WindGustDir_cat',\n 'WindDir9am_cat',\n 'WindDir3pm_cat',\n 'RainToday_cat']"
     },
     "execution_count": 26,
     "metadata": {},
     "output_type": "execute_result"
    }
   ],
   "source": [
    "features"
   ],
   "metadata": {
    "collapsed": false
   }
  },
  {
   "cell_type": "code",
   "execution_count": 27,
   "outputs": [
    {
     "data": {
      "text/plain": "MinTemp            float64\nMaxTemp            float64\nEvaporation        float64\nSunshine           float64\nWindGustSpeed      float64\nWindSpeed9am       float64\nWindSpeed3pm       float64\nHumidity9am        float64\nHumidity3pm        float64\nPressure9am        float64\nPressure3pm        float64\nCloud9am           float64\nCloud3pm           float64\nTemp9am            float64\nTemp3pm            float64\nWindGustDir_cat    float64\nWindDir9am_cat     float64\nWindDir3pm_cat     float64\nRainToday_cat      float64\ndtype: object"
     },
     "execution_count": 27,
     "metadata": {},
     "output_type": "execute_result"
    }
   ],
   "source": [
    "X.dtypes"
   ],
   "metadata": {
    "collapsed": false
   }
  },
  {
   "cell_type": "code",
   "execution_count": 28,
   "outputs": [],
   "source": [
    "X = X[features].values"
   ],
   "metadata": {
    "collapsed": false
   }
  },
  {
   "cell_type": "code",
   "execution_count": 29,
   "outputs": [
    {
     "data": {
      "text/plain": "array([[13.4, 22.9,  nan, ..., 13. , 14. ,  0. ],\n       [ 7.4, 25.1,  nan, ...,  6. , 15. ,  0. ],\n       [12.9, 25.7,  nan, ..., 13. , 15. ,  0. ],\n       ...,\n       [ 5.4, 26.9,  nan, ...,  9. , 14. ,  0. ],\n       [ 7.8, 27. ,  nan, ..., 10. ,  3. ,  0. ],\n       [14.9,  nan,  nan, ...,  2. ,  2. ,  0. ]])"
     },
     "execution_count": 29,
     "metadata": {},
     "output_type": "execute_result"
    }
   ],
   "source": [
    "X"
   ],
   "metadata": {
    "collapsed": false
   }
  },
  {
   "cell_type": "code",
   "execution_count": 30,
   "outputs": [],
   "source": [
    "#entrainement, validation, test --> SKLEARN\n",
    "import sklearn\n",
    "from sklearn import model_selection\n",
    "import sklearn.model_selection\n",
    "from sklearn.preprocessing import OneHotEncoder\n",
    "import seaborn as sns\n",
    "import numpy as np"
   ],
   "metadata": {
    "collapsed": false
   }
  },
  {
   "cell_type": "code",
   "execution_count": 31,
   "outputs": [
    {
     "data": {
      "text/plain": "(145460, 19)"
     },
     "execution_count": 31,
     "metadata": {},
     "output_type": "execute_result"
    }
   ],
   "source": [
    "X.shape"
   ],
   "metadata": {
    "collapsed": false
   }
  },
  {
   "cell_type": "code",
   "execution_count": 32,
   "outputs": [
    {
     "name": "stdout",
     "output_type": "stream",
     "text": [
      "(145460, 2)\n"
     ]
    }
   ],
   "source": [
    "data_dummies = pd.get_dummies(Y)\n",
    "print(data_dummies.shape)\n",
    "# Le OneHotEncoder transforme cette immense matrice en matrice creuse (sparse matrix en anglais)\n",
    "Y_oneHot = OneHotEncoder().fit_transform(data_dummies)"
   ],
   "metadata": {
    "collapsed": false
   }
  },
  {
   "cell_type": "code",
   "execution_count": 33,
   "outputs": [],
   "source": [
    "test_ratio = 0.5\n",
    "seed = 10\n",
    "\n",
    "X_train, X_test, Y_train, Y_test = sklearn.model_selection.train_test_split(X, Y, test_size = test_ratio, random_state = seed)"
   ],
   "metadata": {
    "collapsed": false
   }
  },
  {
   "cell_type": "code",
   "execution_count": 34,
   "outputs": [],
   "source": [
    "from sklearn.naive_bayes import BernoulliNB,GaussianNB\n",
    "from sklearn.tree import DecisionTreeClassifier\n",
    "from sklearn.ensemble import RandomForestClassifier\n",
    "from sklearn.neighbors import KNeighborsClassifier"
   ],
   "metadata": {
    "collapsed": false
   }
  },
  {
   "cell_type": "code",
   "execution_count": 35,
   "outputs": [],
   "source": [
    "models = [\n",
    "    ('DecisionTreeClassifier', DecisionTreeClassifier()),\n",
    "    ('BernoulliNBClassifier', BernoulliNB()),\n",
    "    ('GaussianNBClassifier', GaussianNB()),\n",
    "    ('RandomForestClassifier', RandomForestClassifier()),\n",
    "    ('KNeighborsClassifier', KNeighborsClassifier())]"
   ],
   "metadata": {
    "collapsed": false
   }
  },
  {
   "cell_type": "code",
   "execution_count": 36,
   "outputs": [],
   "source": [
    "def confusion_matrix(test_Y,predict_Y, plot_title):\n",
    "    C = confusion_matrix(test_Y, predict_Y)\n",
    "    labels = [0, 1, 2]\n",
    "    cmap = sns.light_palette('yellow')\n",
    "    print(\"-\"*2, \"Confusion matrix\", \"-\"*2)\n",
    "    plt.figure(figsize=(2,8))\n",
    "    sns.heatmap(C, annot=True, cmap=cmap, fmt=\".3f\", xticklabels=labels, yticklabels=labels)\n",
    "    plt.xlabel('Predicted Class')\n",
    "    plt.ylabel('Original Class')\n",
    "    plt.title(plot_title)\n",
    "    plt.show()\n",
    "    print(np.matrix(plt.show()))"
   ],
   "metadata": {
    "collapsed": false
   }
  },
  {
   "cell_type": "code",
   "execution_count": 37,
   "outputs": [],
   "source": [
    "from sklearn.metrics import confusion_matrix"
   ],
   "metadata": {
    "collapsed": false
   }
  },
  {
   "cell_type": "code",
   "execution_count": 38,
   "outputs": [
    {
     "ename": "ValueError",
     "evalue": "Input contains NaN, infinity or a value too large for dtype('float32').",
     "output_type": "error",
     "traceback": [
      "\u001B[1;31m---------------------------------------------------------------------------\u001B[0m",
      "\u001B[1;31mValueError\u001B[0m                                Traceback (most recent call last)",
      "\u001B[1;32m<ipython-input-38-905849d7e9d7>\u001B[0m in \u001B[0;36m<module>\u001B[1;34m\u001B[0m\n\u001B[0;32m      1\u001B[0m \u001B[0mmodel_score\u001B[0m \u001B[1;33m=\u001B[0m \u001B[1;33m[\u001B[0m\u001B[1;33m]\u001B[0m\u001B[1;33m\u001B[0m\u001B[1;33m\u001B[0m\u001B[0m\n\u001B[0;32m      2\u001B[0m \u001B[1;32mfor\u001B[0m \u001B[0mname\u001B[0m\u001B[1;33m,\u001B[0m \u001B[0mmodel\u001B[0m \u001B[1;32min\u001B[0m \u001B[0mmodels\u001B[0m \u001B[1;33m:\u001B[0m\u001B[1;33m\u001B[0m\u001B[1;33m\u001B[0m\u001B[0m\n\u001B[1;32m----> 3\u001B[1;33m     \u001B[0mmodel\u001B[0m\u001B[1;33m.\u001B[0m\u001B[0mfit\u001B[0m\u001B[1;33m(\u001B[0m\u001B[0mX_train\u001B[0m\u001B[1;33m,\u001B[0m \u001B[0mY_train\u001B[0m\u001B[1;33m)\u001B[0m\u001B[1;33m\u001B[0m\u001B[1;33m\u001B[0m\u001B[0m\n\u001B[0m\u001B[0;32m      4\u001B[0m     \u001B[0mts_score\u001B[0m \u001B[1;33m=\u001B[0m \u001B[0mmodels\u001B[0m\u001B[1;33m.\u001B[0m\u001B[0mscore\u001B[0m\u001B[1;33m(\u001B[0m\u001B[0mX\u001B[0m\u001B[1;33m,\u001B[0m\u001B[0mY\u001B[0m\u001B[1;33m)\u001B[0m\u001B[1;33m\u001B[0m\u001B[1;33m\u001B[0m\u001B[0m\n\u001B[0;32m      5\u001B[0m     \u001B[0mpred\u001B[0m \u001B[1;33m=\u001B[0m \u001B[0mmodel\u001B[0m\u001B[1;33m.\u001B[0m\u001B[0mpredict\u001B[0m\u001B[1;33m(\u001B[0m\u001B[0mX_test\u001B[0m\u001B[1;33m)\u001B[0m\u001B[1;33m\u001B[0m\u001B[1;33m\u001B[0m\u001B[0m\n",
      "\u001B[1;32m~\\anaconda3\\lib\\site-packages\\sklearn\\tree\\_classes.py\u001B[0m in \u001B[0;36mfit\u001B[1;34m(self, X, y, sample_weight, check_input, X_idx_sorted)\u001B[0m\n\u001B[0;32m    896\u001B[0m         \"\"\"\n\u001B[0;32m    897\u001B[0m \u001B[1;33m\u001B[0m\u001B[0m\n\u001B[1;32m--> 898\u001B[1;33m         super().fit(\n\u001B[0m\u001B[0;32m    899\u001B[0m             \u001B[0mX\u001B[0m\u001B[1;33m,\u001B[0m \u001B[0my\u001B[0m\u001B[1;33m,\u001B[0m\u001B[1;33m\u001B[0m\u001B[1;33m\u001B[0m\u001B[0m\n\u001B[0;32m    900\u001B[0m             \u001B[0msample_weight\u001B[0m\u001B[1;33m=\u001B[0m\u001B[0msample_weight\u001B[0m\u001B[1;33m,\u001B[0m\u001B[1;33m\u001B[0m\u001B[1;33m\u001B[0m\u001B[0m\n",
      "\u001B[1;32m~\\anaconda3\\lib\\site-packages\\sklearn\\tree\\_classes.py\u001B[0m in \u001B[0;36mfit\u001B[1;34m(self, X, y, sample_weight, check_input, X_idx_sorted)\u001B[0m\n\u001B[0;32m    154\u001B[0m             \u001B[0mcheck_X_params\u001B[0m \u001B[1;33m=\u001B[0m \u001B[0mdict\u001B[0m\u001B[1;33m(\u001B[0m\u001B[0mdtype\u001B[0m\u001B[1;33m=\u001B[0m\u001B[0mDTYPE\u001B[0m\u001B[1;33m,\u001B[0m \u001B[0maccept_sparse\u001B[0m\u001B[1;33m=\u001B[0m\u001B[1;34m\"csc\"\u001B[0m\u001B[1;33m)\u001B[0m\u001B[1;33m\u001B[0m\u001B[1;33m\u001B[0m\u001B[0m\n\u001B[0;32m    155\u001B[0m             \u001B[0mcheck_y_params\u001B[0m \u001B[1;33m=\u001B[0m \u001B[0mdict\u001B[0m\u001B[1;33m(\u001B[0m\u001B[0mensure_2d\u001B[0m\u001B[1;33m=\u001B[0m\u001B[1;32mFalse\u001B[0m\u001B[1;33m,\u001B[0m \u001B[0mdtype\u001B[0m\u001B[1;33m=\u001B[0m\u001B[1;32mNone\u001B[0m\u001B[1;33m)\u001B[0m\u001B[1;33m\u001B[0m\u001B[1;33m\u001B[0m\u001B[0m\n\u001B[1;32m--> 156\u001B[1;33m             X, y = self._validate_data(X, y,\n\u001B[0m\u001B[0;32m    157\u001B[0m                                        validate_separately=(check_X_params,\n\u001B[0;32m    158\u001B[0m                                                             check_y_params))\n",
      "\u001B[1;32m~\\anaconda3\\lib\\site-packages\\sklearn\\base.py\u001B[0m in \u001B[0;36m_validate_data\u001B[1;34m(self, X, y, reset, validate_separately, **check_params)\u001B[0m\n\u001B[0;32m    428\u001B[0m                 \u001B[1;31m# :(\u001B[0m\u001B[1;33m\u001B[0m\u001B[1;33m\u001B[0m\u001B[1;33m\u001B[0m\u001B[0m\n\u001B[0;32m    429\u001B[0m                 \u001B[0mcheck_X_params\u001B[0m\u001B[1;33m,\u001B[0m \u001B[0mcheck_y_params\u001B[0m \u001B[1;33m=\u001B[0m \u001B[0mvalidate_separately\u001B[0m\u001B[1;33m\u001B[0m\u001B[1;33m\u001B[0m\u001B[0m\n\u001B[1;32m--> 430\u001B[1;33m                 \u001B[0mX\u001B[0m \u001B[1;33m=\u001B[0m \u001B[0mcheck_array\u001B[0m\u001B[1;33m(\u001B[0m\u001B[0mX\u001B[0m\u001B[1;33m,\u001B[0m \u001B[1;33m**\u001B[0m\u001B[0mcheck_X_params\u001B[0m\u001B[1;33m)\u001B[0m\u001B[1;33m\u001B[0m\u001B[1;33m\u001B[0m\u001B[0m\n\u001B[0m\u001B[0;32m    431\u001B[0m                 \u001B[0my\u001B[0m \u001B[1;33m=\u001B[0m \u001B[0mcheck_array\u001B[0m\u001B[1;33m(\u001B[0m\u001B[0my\u001B[0m\u001B[1;33m,\u001B[0m \u001B[1;33m**\u001B[0m\u001B[0mcheck_y_params\u001B[0m\u001B[1;33m)\u001B[0m\u001B[1;33m\u001B[0m\u001B[1;33m\u001B[0m\u001B[0m\n\u001B[0;32m    432\u001B[0m             \u001B[1;32melse\u001B[0m\u001B[1;33m:\u001B[0m\u001B[1;33m\u001B[0m\u001B[1;33m\u001B[0m\u001B[0m\n",
      "\u001B[1;32m~\\anaconda3\\lib\\site-packages\\sklearn\\utils\\validation.py\u001B[0m in \u001B[0;36minner_f\u001B[1;34m(*args, **kwargs)\u001B[0m\n\u001B[0;32m     61\u001B[0m             \u001B[0mextra_args\u001B[0m \u001B[1;33m=\u001B[0m \u001B[0mlen\u001B[0m\u001B[1;33m(\u001B[0m\u001B[0margs\u001B[0m\u001B[1;33m)\u001B[0m \u001B[1;33m-\u001B[0m \u001B[0mlen\u001B[0m\u001B[1;33m(\u001B[0m\u001B[0mall_args\u001B[0m\u001B[1;33m)\u001B[0m\u001B[1;33m\u001B[0m\u001B[1;33m\u001B[0m\u001B[0m\n\u001B[0;32m     62\u001B[0m             \u001B[1;32mif\u001B[0m \u001B[0mextra_args\u001B[0m \u001B[1;33m<=\u001B[0m \u001B[1;36m0\u001B[0m\u001B[1;33m:\u001B[0m\u001B[1;33m\u001B[0m\u001B[1;33m\u001B[0m\u001B[0m\n\u001B[1;32m---> 63\u001B[1;33m                 \u001B[1;32mreturn\u001B[0m \u001B[0mf\u001B[0m\u001B[1;33m(\u001B[0m\u001B[1;33m*\u001B[0m\u001B[0margs\u001B[0m\u001B[1;33m,\u001B[0m \u001B[1;33m**\u001B[0m\u001B[0mkwargs\u001B[0m\u001B[1;33m)\u001B[0m\u001B[1;33m\u001B[0m\u001B[1;33m\u001B[0m\u001B[0m\n\u001B[0m\u001B[0;32m     64\u001B[0m \u001B[1;33m\u001B[0m\u001B[0m\n\u001B[0;32m     65\u001B[0m             \u001B[1;31m# extra_args > 0\u001B[0m\u001B[1;33m\u001B[0m\u001B[1;33m\u001B[0m\u001B[1;33m\u001B[0m\u001B[0m\n",
      "\u001B[1;32m~\\anaconda3\\lib\\site-packages\\sklearn\\utils\\validation.py\u001B[0m in \u001B[0;36mcheck_array\u001B[1;34m(array, accept_sparse, accept_large_sparse, dtype, order, copy, force_all_finite, ensure_2d, allow_nd, ensure_min_samples, ensure_min_features, estimator)\u001B[0m\n\u001B[0;32m    661\u001B[0m \u001B[1;33m\u001B[0m\u001B[0m\n\u001B[0;32m    662\u001B[0m         \u001B[1;32mif\u001B[0m \u001B[0mforce_all_finite\u001B[0m\u001B[1;33m:\u001B[0m\u001B[1;33m\u001B[0m\u001B[1;33m\u001B[0m\u001B[0m\n\u001B[1;32m--> 663\u001B[1;33m             _assert_all_finite(array,\n\u001B[0m\u001B[0;32m    664\u001B[0m                                allow_nan=force_all_finite == 'allow-nan')\n\u001B[0;32m    665\u001B[0m \u001B[1;33m\u001B[0m\u001B[0m\n",
      "\u001B[1;32m~\\anaconda3\\lib\\site-packages\\sklearn\\utils\\validation.py\u001B[0m in \u001B[0;36m_assert_all_finite\u001B[1;34m(X, allow_nan, msg_dtype)\u001B[0m\n\u001B[0;32m    101\u001B[0m                 not allow_nan and not np.isfinite(X).all()):\n\u001B[0;32m    102\u001B[0m             \u001B[0mtype_err\u001B[0m \u001B[1;33m=\u001B[0m \u001B[1;34m'infinity'\u001B[0m \u001B[1;32mif\u001B[0m \u001B[0mallow_nan\u001B[0m \u001B[1;32melse\u001B[0m \u001B[1;34m'NaN, infinity'\u001B[0m\u001B[1;33m\u001B[0m\u001B[1;33m\u001B[0m\u001B[0m\n\u001B[1;32m--> 103\u001B[1;33m             raise ValueError(\n\u001B[0m\u001B[0;32m    104\u001B[0m                     \u001B[0mmsg_err\u001B[0m\u001B[1;33m.\u001B[0m\u001B[0mformat\u001B[0m\u001B[1;33m\u001B[0m\u001B[1;33m\u001B[0m\u001B[0m\n\u001B[0;32m    105\u001B[0m                     (type_err,\n",
      "\u001B[1;31mValueError\u001B[0m: Input contains NaN, infinity or a value too large for dtype('float32')."
     ]
    }
   ],
   "source": [
    "model_score = []\n",
    "for name, model in models :\n",
    "    model.fit(X_train, Y_train)\n",
    "    ts_score = models.score(X,Y)\n",
    "    pred = model.predict(X_test)\n",
    "    print(name)\n",
    "    print(\"Train score:\",model.score(X_test,Y_test),\"\\nTest score:\",ts_score)\n",
    "    cm = confusion_matrix(Y, pred)\n",
    "    print(\"Confusion Matrix\\n\",cm)\n",
    "    model_score.append((name,ts_score))\n",
    "    confusion_matrix(Y,pred, name)"
   ],
   "metadata": {
    "collapsed": false
   }
  },
  {
   "cell_type": "code",
   "execution_count": null,
   "outputs": [],
   "source": [],
   "metadata": {
    "collapsed": false
   }
  }
 ],
 "metadata": {
  "kernelspec": {
   "display_name": "Python 3",
   "language": "python",
   "name": "python3"
  },
  "language_info": {
   "codemirror_mode": {
    "name": "ipython",
    "version": 2
   },
   "file_extension": ".py",
   "mimetype": "text/x-python",
   "name": "python",
   "nbconvert_exporter": "python",
   "pygments_lexer": "ipython2",
   "version": "2.7.6"
  }
 },
 "nbformat": 4,
 "nbformat_minor": 0
}
